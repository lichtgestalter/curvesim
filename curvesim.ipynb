{
 "cells": [
  {
   "cell_type": "code",
   "execution_count": 1,
   "id": "56760ebc-f6e7-403e-81f0-26cd9e0a7a4c",
   "metadata": {},
   "source": [
    "import curvesim\n",
    "import sys\n",
    "sys.argv[1] = \"configurations/SolarSystem.ini\"\n",
    "curvesim.curvesim()"
   ],
   "outputs": []
  },
  {
   "cell_type": "code",
   "execution_count": null,
   "id": "59d73e20-84b1-4434-bee8-d52a43566424",
   "metadata": {},
   "source": [],
   "outputs": []
  }
 ],
 "metadata": {
  "kernelspec": {
   "display_name": "Python 3 (ipykernel)",
   "language": "python",
   "name": "python3"
  },
  "language_info": {
   "codemirror_mode": {
    "name": "ipython",
    "version": 3
   },
   "file_extension": ".py",
   "mimetype": "text/x-python",
   "name": "python",
   "nbconvert_exporter": "python",
   "pygments_lexer": "ipython3",
   "version": "3.11.0"
  }
 },
 "nbformat": 4,
 "nbformat_minor": 5
}
